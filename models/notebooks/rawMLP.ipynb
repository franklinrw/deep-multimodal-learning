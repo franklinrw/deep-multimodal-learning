{
 "cells": [
  {
   "cell_type": "code",
   "execution_count": 1,
   "metadata": {},
   "outputs": [],
   "source": [
    "import sys\n",
    "sys.path.insert(0, '../')\n",
    "\n",
    "import torch\n",
    "import torch.nn as nn\n",
    "from functions import get_loader, plot_histories, plot_history\n",
    "\n",
    "from mlp_models import rawMLP\n",
    "from mlp_functions import train_mlp, validate_mlp\n",
    "\n",
    "import matplotlib.pyplot as plt"
   ]
  },
  {
   "cell_type": "code",
   "execution_count": 2,
   "metadata": {},
   "outputs": [
    {
     "name": "stdout",
     "output_type": "stream",
     "text": [
      "CUDA is available. Using GPU...\n"
     ]
    }
   ],
   "source": [
    "DEVICE = \"\"\n",
    "if torch.cuda.is_available():\n",
    "    DEVICE = torch.device(\"cuda\")\n",
    "    print(\"CUDA is available. Using GPU...\")\n",
    "else:\n",
    "    DEVICE = torch.device(\"cpu\")\n",
    "    print(\"CUDA is not available. Using CPU...\")\n",
    "\n",
    "BASE_PATH = 'C:/Users/Frank/OneDrive/Bureaublad/ARC/deep-multimodal-learning/fusion'\n",
    "\n",
    "# Define the tool names and actions\n",
    "TOOL_NAMES = ['hook', 'ruler', 'spatula', 'sshot']\n",
    "ACTIONS = ['left_to_right', 'pull', 'push', 'right_to_left']\n",
    "\n",
    "# All available object names\n",
    "OBJECTS = ['0_woodenCube', '1_pearToy', '2_yogurtYellowbottle', '3_cowToy', '4_tennisBallYellowGreen',\n",
    "            '5_blackCoinbag', '6_lemonSodaCan', '7_peperoneGreenToy', '8_boxEgg','9_pumpkinToy',\n",
    "            '10_tomatoCan', '11_boxMilk', '12_containerNuts', '13_cornCob', '14_yellowFruitToy',\n",
    "            '15_bottleNailPolisher', '16_boxRealSense', '17_clampOrange', '18_greenRectangleToy', '19_ketchupToy']\n",
    "\n",
    "sensor_color = \"color\"\n",
    "sensor_left = \"icub_left\"\n",
    "sensor_right = \"icub_right\"\n",
    "sensor_depth = \"depthcolormap\"\n",
    "\n",
    "BATCH_SIZE = 8\n",
    "\n",
    "train_loader = get_loader(BASE_PATH, OBJECTS, TOOL_NAMES, ACTIONS, sensor_color, \"training\", batch_size=BATCH_SIZE)\n",
    "val_loader = get_loader(BASE_PATH, OBJECTS, TOOL_NAMES, ACTIONS, sensor_color, \"validation\", batch_size=BATCH_SIZE)\n",
    "test_loader = get_loader(BASE_PATH, OBJECTS, TOOL_NAMES, ACTIONS, sensor_color, \"testing\", batch_size=BATCH_SIZE)\n",
    "\n",
    "NUM_EPOCHS = 5\n",
    "LR_RATE = 1e-3\n",
    "mlp_lossfunction = nn.CrossEntropyLoss()  # Loss function\n",
    "input_dim = 294912\n",
    "output_dim = 4 \n",
    "\n",
    "mlp = rawMLP(input_dim, output_dim).to(DEVICE)\n",
    "mlp_optimizer = torch.optim.Adam(mlp.parameters(), lr=LR_RATE)"
   ]
  },
  {
   "cell_type": "code",
   "execution_count": 3,
   "metadata": {},
   "outputs": [
    {
     "name": "stdout",
     "output_type": "stream",
     "text": [
      "Epoch [1/5], Train Loss: 7.8516\n",
      "Training Accuracy: 0.2464\n",
      "Training Classification Report:\n",
      "              precision    recall  f1-score   support\n",
      "\n",
      "           0       0.25      0.74      0.37       480\n",
      "           1       0.25      0.10      0.14       480\n",
      "           2       0.22      0.06      0.10       480\n",
      "           3       0.24      0.09      0.13       480\n",
      "\n",
      "    accuracy                           0.25      1920\n",
      "   macro avg       0.24      0.25      0.19      1920\n",
      "weighted avg       0.24      0.25      0.19      1920\n",
      "\n",
      "Epoch [2/5], Train Loss: 1.3939\n",
      "Training Accuracy: 0.2474\n",
      "Training Classification Report:\n",
      "              precision    recall  f1-score   support\n",
      "\n",
      "           0       0.25      0.99      0.40       480\n",
      "           1       0.25      0.00      0.00       480\n",
      "           2       0.00      0.00      0.00       480\n",
      "           3       0.00      0.00      0.00       480\n",
      "\n",
      "    accuracy                           0.25      1920\n",
      "   macro avg       0.12      0.25      0.10      1920\n",
      "weighted avg       0.12      0.25      0.10      1920\n",
      "\n"
     ]
    },
    {
     "name": "stderr",
     "output_type": "stream",
     "text": [
      "c:\\Users\\Frank\\AppData\\Local\\Programs\\Python\\Python311\\Lib\\site-packages\\sklearn\\metrics\\_classification.py:1344: UndefinedMetricWarning: Precision and F-score are ill-defined and being set to 0.0 in labels with no predicted samples. Use `zero_division` parameter to control this behavior.\n",
      "  _warn_prf(average, modifier, msg_start, len(result))\n",
      "c:\\Users\\Frank\\AppData\\Local\\Programs\\Python\\Python311\\Lib\\site-packages\\sklearn\\metrics\\_classification.py:1344: UndefinedMetricWarning: Precision and F-score are ill-defined and being set to 0.0 in labels with no predicted samples. Use `zero_division` parameter to control this behavior.\n",
      "  _warn_prf(average, modifier, msg_start, len(result))\n",
      "c:\\Users\\Frank\\AppData\\Local\\Programs\\Python\\Python311\\Lib\\site-packages\\sklearn\\metrics\\_classification.py:1344: UndefinedMetricWarning: Precision and F-score are ill-defined and being set to 0.0 in labels with no predicted samples. Use `zero_division` parameter to control this behavior.\n",
      "  _warn_prf(average, modifier, msg_start, len(result))\n"
     ]
    },
    {
     "name": "stdout",
     "output_type": "stream",
     "text": [
      "Epoch [3/5], Train Loss: 1.4159\n",
      "Training Accuracy: 0.2458\n",
      "Training Classification Report:\n",
      "              precision    recall  f1-score   support\n",
      "\n",
      "           0       0.25      0.98      0.39       480\n",
      "           1       0.00      0.00      0.00       480\n",
      "           2       0.18      0.00      0.01       480\n",
      "           3       0.00      0.00      0.00       480\n",
      "\n",
      "    accuracy                           0.25      1920\n",
      "   macro avg       0.11      0.25      0.10      1920\n",
      "weighted avg       0.11      0.25      0.10      1920\n",
      "\n"
     ]
    },
    {
     "name": "stderr",
     "output_type": "stream",
     "text": [
      "c:\\Users\\Frank\\AppData\\Local\\Programs\\Python\\Python311\\Lib\\site-packages\\sklearn\\metrics\\_classification.py:1344: UndefinedMetricWarning: Precision and F-score are ill-defined and being set to 0.0 in labels with no predicted samples. Use `zero_division` parameter to control this behavior.\n",
      "  _warn_prf(average, modifier, msg_start, len(result))\n",
      "c:\\Users\\Frank\\AppData\\Local\\Programs\\Python\\Python311\\Lib\\site-packages\\sklearn\\metrics\\_classification.py:1344: UndefinedMetricWarning: Precision and F-score are ill-defined and being set to 0.0 in labels with no predicted samples. Use `zero_division` parameter to control this behavior.\n",
      "  _warn_prf(average, modifier, msg_start, len(result))\n",
      "c:\\Users\\Frank\\AppData\\Local\\Programs\\Python\\Python311\\Lib\\site-packages\\sklearn\\metrics\\_classification.py:1344: UndefinedMetricWarning: Precision and F-score are ill-defined and being set to 0.0 in labels with no predicted samples. Use `zero_division` parameter to control this behavior.\n",
      "  _warn_prf(average, modifier, msg_start, len(result))\n"
     ]
    },
    {
     "name": "stdout",
     "output_type": "stream",
     "text": [
      "Epoch [4/5], Train Loss: 1.3862\n",
      "Training Accuracy: 0.2510\n",
      "Training Classification Report:\n",
      "              precision    recall  f1-score   support\n",
      "\n",
      "           0       0.25      0.94      0.39       480\n",
      "           1       0.40      0.01      0.02       480\n",
      "           2       0.35      0.04      0.06       480\n",
      "           3       0.17      0.02      0.04       480\n",
      "\n",
      "    accuracy                           0.25      1920\n",
      "   macro avg       0.29      0.25      0.13      1920\n",
      "weighted avg       0.29      0.25      0.13      1920\n",
      "\n",
      "Epoch [5/5], Train Loss: 1.3860\n",
      "Training Accuracy: 0.2510\n",
      "Training Classification Report:\n",
      "              precision    recall  f1-score   support\n",
      "\n",
      "           0       0.25      0.75      0.38       480\n",
      "           1       0.21      0.04      0.07       480\n",
      "           2       0.32      0.14      0.19       480\n",
      "           3       0.20      0.08      0.12       480\n",
      "\n",
      "    accuracy                           0.25      1920\n",
      "   macro avg       0.25      0.25      0.19      1920\n",
      "weighted avg       0.25      0.25      0.19      1920\n",
      "\n",
      "Validation Loss: 0.1733\n",
      "Validation Accuracy: 0.2500\n",
      "Validation Classification Report:\n",
      "              precision    recall  f1-score   support\n",
      "\n",
      "           0       0.25      1.00      0.40       160\n",
      "           1       0.00      0.00      0.00       160\n",
      "           2       0.00      0.00      0.00       160\n",
      "           3       0.00      0.00      0.00       160\n",
      "\n",
      "    accuracy                           0.25       640\n",
      "   macro avg       0.06      0.25      0.10       640\n",
      "weighted avg       0.06      0.25      0.10       640\n",
      "\n"
     ]
    },
    {
     "name": "stderr",
     "output_type": "stream",
     "text": [
      "c:\\Users\\Frank\\AppData\\Local\\Programs\\Python\\Python311\\Lib\\site-packages\\sklearn\\metrics\\_classification.py:1344: UndefinedMetricWarning: Precision and F-score are ill-defined and being set to 0.0 in labels with no predicted samples. Use `zero_division` parameter to control this behavior.\n",
      "  _warn_prf(average, modifier, msg_start, len(result))\n",
      "c:\\Users\\Frank\\AppData\\Local\\Programs\\Python\\Python311\\Lib\\site-packages\\sklearn\\metrics\\_classification.py:1344: UndefinedMetricWarning: Precision and F-score are ill-defined and being set to 0.0 in labels with no predicted samples. Use `zero_division` parameter to control this behavior.\n",
      "  _warn_prf(average, modifier, msg_start, len(result))\n",
      "c:\\Users\\Frank\\AppData\\Local\\Programs\\Python\\Python311\\Lib\\site-packages\\sklearn\\metrics\\_classification.py:1344: UndefinedMetricWarning: Precision and F-score are ill-defined and being set to 0.0 in labels with no predicted samples. Use `zero_division` parameter to control this behavior.\n",
      "  _warn_prf(average, modifier, msg_start, len(result))\n"
     ]
    }
   ],
   "source": [
    "trained_mlp = train_mlp(mlp, mlp_lossfunction, mlp_optimizer, train_loader, NUM_EPOCHS, 1, DEVICE)\n",
    "validate_mlp(trained_mlp, mlp_lossfunction, val_loader, 1, DEVICE)"
   ]
  },
  {
   "cell_type": "code",
   "execution_count": null,
   "metadata": {},
   "outputs": [],
   "source": []
  }
 ],
 "metadata": {
  "kernelspec": {
   "display_name": "Python 3",
   "language": "python",
   "name": "python3"
  },
  "language_info": {
   "codemirror_mode": {
    "name": "ipython",
    "version": 3
   },
   "file_extension": ".py",
   "mimetype": "text/x-python",
   "name": "python",
   "nbconvert_exporter": "python",
   "pygments_lexer": "ipython3",
   "version": "3.11.3"
  }
 },
 "nbformat": 4,
 "nbformat_minor": 2
}
