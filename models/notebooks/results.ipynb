{
 "cells": [
  {
   "cell_type": "code",
   "execution_count": 1,
   "metadata": {},
   "outputs": [],
   "source": [
    "import sys\n",
    "sys.path.insert(0, '../')\n",
    "\n",
    "import os\n",
    "import torch\n",
    "from functions import CustomSampler, load_pretrained_mlp, load_pretrained_cae, get_model_predictions, average_fusion_predictions, calculate_classification_report, calculate_fusion_accuracy\n",
    "from ae_functions import get_latent_dataloader\n",
    "from ae_models import improvedCAE, simpleCAE\n",
    "from mlp_functions import train_mlp, validate_mlp, decision_level_fusion\n",
    "from mlp_models import improvedMLP, simpleMLP\n",
    "import matplotlib.pyplot as plt\n",
    "from sklearn.metrics import confusion_matrix, accuracy_score\n",
    "import numpy as np"
   ]
  },
  {
   "cell_type": "code",
   "execution_count": 2,
   "metadata": {},
   "outputs": [],
   "source": [
    "def get_predictions(pred):\n",
    "    batch_pred = []\n",
    "    for batch in pred:\n",
    "        batch_pred.extend(batch.argmax(dim=-1).cpu().numpy())\n",
    "    return batch_pred\n",
    "\n",
    "def unpack_labels(labels):\n",
    "    batch_labels = []\n",
    "    for batch in labels:\n",
    "        batch_labels.extend(batch)\n",
    "    return batch_labels"
   ]
  },
  {
   "cell_type": "code",
   "execution_count": 3,
   "metadata": {},
   "outputs": [],
   "source": [
    "def get_confusion_matrix(preds_list, class_names, true_labels, setup, save_dir):\n",
    "    sensor = [\"Color\", \"Icub_left\", \"Icub_right\", \"Depth\"]\n",
    "    for s, preds in enumerate(preds_list):\n",
    "        matrix = confusion_matrix(true_labels, preds)\n",
    "\n",
    "        plt.figure(figsize=(10, 8))  # Adjust figure size for better readability\n",
    "        plt.imshow(matrix, cmap='Blues')\n",
    "\n",
    "        # Add explicit values to the confusion matrix\n",
    "        for i in range(matrix.shape[0]):\n",
    "            for j in range(matrix.shape[1]):\n",
    "                color = 'white' if matrix[i, j] > matrix.max() / 2 else 'black'  # Contrast color for readability\n",
    "                plt.text(j, i, format(matrix[i, j], 'd'), ha='center', va='center', \n",
    "                        color=color, fontsize=14, weight='bold')  # Adjust font size and add background\n",
    "\n",
    "        plt.colorbar()\n",
    "        plt.xticks(range(len(class_names)), class_names, fontsize=12)  # Rotate x-axis labels for better visibility\n",
    "        plt.yticks(range(len(class_names)), class_names, fontsize=12)\n",
    "        plt.xlabel('Predicted', fontsize=12)  # Increase font size\n",
    "        plt.ylabel('True', fontsize=12)  # Increase font size\n",
    "        plt.title(f'Confusion Matrix {setup} For {sensor[s]} Sensor', fontsize=16)  # Increase font size\n",
    "\n",
    "        # Move x-axis to the top\n",
    "        ax = plt.gca()\n",
    "        ax.xaxis.tick_top()\n",
    "        ax.xaxis.set_label_position('top')\n",
    "\n",
    "        # Adjust layout\n",
    "        plt.tight_layout()\n",
    "\n",
    "        # Save the confusion matrix\n",
    "        save_path = os.path.join(save_dir, f'confusion_matrix_{setup}_{sensor[s]}.png')\n",
    "        plt.savefig(save_path)\n",
    "        plt.close()\n",
    "        print(f\"Saved confusion matrix for {sensor[s]} sensor\")"
   ]
  },
  {
   "cell_type": "code",
   "execution_count": 10,
   "metadata": {},
   "outputs": [],
   "source": [
    "def get_confusion_matrix_fusion(preds, class_names, true_labels, setup, save_dir):\n",
    "    matrix = confusion_matrix(true_labels, preds)\n",
    "\n",
    "    plt.figure(figsize=(10, 8))  # Adjust figure size for better readability\n",
    "    plt.imshow(matrix, cmap='Blues')\n",
    "\n",
    "                                        # Add explicit values to the confusion matrix\n",
    "    for i in range(matrix.shape[0]):\n",
    "        for j in range(matrix.shape[1]):\n",
    "            color = 'white' if matrix[i, j] > matrix.max() / 2 else 'black'  # Contrast color for readability\n",
    "            plt.text(j, i, format(matrix[i, j], 'd'), ha='center', va='center', color=color, fontsize=14, weight='bold')  # Adjust font size and add background\n",
    "\n",
    "    plt.colorbar()\n",
    "    plt.xticks(range(len(class_names)), class_names, fontsize=12)  # Rotate x-axis labels for better visibility\n",
    "    plt.yticks(range(len(class_names)), class_names, fontsize=12)\n",
    "    plt.xlabel('Predicted', fontsize=12)  # Increase font size\n",
    "    plt.ylabel('True', fontsize=12)  # Increase font size\n",
    "    plt.title(f'Confusion Matrix {setup}', fontsize=16)  # Increase font size\n",
    "\n",
    "    # Move x-axis to the top\n",
    "    ax = plt.gca()\n",
    "    ax.xaxis.tick_top()\n",
    "    ax.xaxis.set_label_position('top')\n",
    "\n",
    "    # Adjust layout\n",
    "    plt.tight_layout()\n",
    "\n",
    "    # Save the confusion matrix\n",
    "    save_path = os.path.join(save_dir, f'confusion_matrix_{setup}.png')\n",
    "    plt.savefig(save_path)\n",
    "    plt.close()\n",
    "    print(f\"Saved confusion matrix for {setup}\")"
   ]
  },
  {
   "cell_type": "code",
   "execution_count": 5,
   "metadata": {},
   "outputs": [],
   "source": [
    "def get_accuracy(preds_list, true_labels):\n",
    "    accuracies = []\n",
    "    for preds in preds_list:\n",
    "        accuracies.append(accuracy_score(true_labels, preds))\n",
    "    print(\"color: \", accuracies[0], \" left: \", accuracies[1], \" right: \", accuracies[2])"
   ]
  },
  {
   "cell_type": "code",
   "execution_count": 6,
   "metadata": {},
   "outputs": [
    {
     "name": "stdout",
     "output_type": "stream",
     "text": [
      "CUDA is available. Using GPU...\n"
     ]
    }
   ],
   "source": [
    "BATCH_SIZE = 8\n",
    "\n",
    "DEVICE = \"\"\n",
    "if torch.cuda.is_available():\n",
    "    DEVICE = torch.device(\"cuda\")\n",
    "    print(\"CUDA is available. Using GPU...\")\n",
    "else:\n",
    "    DEVICE = torch.device(\"cpu\")\n",
    "    print(\"CUDA is not available. Using CPU...\")\n",
    "\n",
    "# Define the tool names and actions\n",
    "TOOL_NAMES = ['hook', 'ruler', 'spatula', 'sshot']\n",
    "ACTIONS = ['left_to_right', 'pull', 'push', 'right_to_left']\n",
    "\n",
    "# All available object names\n",
    "OBJECTS = ['0_woodenCube', '1_pearToy', '2_yogurtYellowbottle', '3_cowToy', '4_tennisBallYellowGreen',\n",
    "            '5_blackCoinbag', '6_lemonSodaCan', '7_peperoneGreenToy', '8_boxEgg','9_pumpkinToy',\n",
    "            '10_tomatoCan', '11_boxMilk', '12_containerNuts', '13_cornCob', '14_yellowFruitToy',\n",
    "            '15_bottleNailPolisher', '16_boxRealSense', '17_clampOrange', '18_greenRectangleToy', '19_ketchupToy']\n",
    "\n",
    "BASE_PATH = 'C:/Users/Frank/OneDrive/Bureaublad/ARC/deep-multimodal-learning/fusion'\n",
    "\n",
    "sensor_color = \"color\"\n",
    "sensor_left = \"icub_left\"\n",
    "sensor_right = \"icub_right\"\n",
    "sensor_depth = \"depthcolormap\"  "
   ]
  },
  {
   "cell_type": "code",
   "execution_count": 7,
   "metadata": {},
   "outputs": [],
   "source": [
    "# # Load CAE models\n",
    "model_path = \"C:/Users/Frank/OneDrive/Bureaublad/ARC/deep-multimodal-learning/weights_ae/\"\n",
    "simple_cae_color = load_pretrained_cae(simpleCAE, model_path, \"simple/simple_cae_ne3_b8_color.pth\", DEVICE)\n",
    "simple_cae_left = load_pretrained_cae(simpleCAE, model_path, \"simple/simple_cae_ne3_b8_icub_left.pth\", DEVICE)\n",
    "simple_cae_right = load_pretrained_cae(simpleCAE, model_path, \"simple/simple_cae_ne3_b8_icub_right.pth\", DEVICE)\n",
    "simple_cae_depth = load_pretrained_cae(simpleCAE, model_path, \"simple/simple_cae_ne3_b8_depthcolormap.pth\", DEVICE)\n",
    "\n",
    "# Load CAE models Improved\n",
    "improved_dcae_color = load_pretrained_cae(improvedCAE, model_path, \"improved/improved_cae_ne3_b8_color_noise.pth\", DEVICE)\n",
    "improved_dcae_left = load_pretrained_cae(improvedCAE, model_path, \"improved/improved_cae_ne3_b8_icub_left_noise.pth\", DEVICE)\n",
    "improved_dcae_right = load_pretrained_cae(improvedCAE, model_path, \"improved/improved_cae_ne3_b8_icub_right_noise.pth\", DEVICE)\n",
    "\n",
    "# Load CAE models Improved\n",
    "improved_cae_color = load_pretrained_cae(improvedCAE, model_path, \"improved/improved_cae_ne3_b8_color.pth\", DEVICE)\n",
    "improved_cae_left = load_pretrained_cae(improvedCAE, model_path, \"improved/improved_cae_ne3_b8_icub_left.pth\", DEVICE)\n",
    "improved_cae_right = load_pretrained_cae(improvedCAE, model_path, \"improved/improved_cae_ne3_b8_icub_right.pth\", DEVICE)\n",
    "improved_cae_depth = load_pretrained_cae(improvedCAE, model_path, \"improved/improved_cae_ne3_b8_depthcolormap.pth\", DEVICE)"
   ]
  },
  {
   "cell_type": "code",
   "execution_count": 8,
   "metadata": {},
   "outputs": [],
   "source": [
    "# # Load MLP models\n",
    "# simple_mlp_improved_cae_color_tool = load_pretrained_mlp(simpleMLP, model_path, \"simple/simple_mlp_improved_cae_ne3_b8_color_tool.pth\", DEVICE, input_dim, output_dim)\n",
    "# simple_mlp_improved_cae_left_tool = load_pretrained_mlp(simpleMLP, model_path, \"simple/simple_mlp_improved_cae_ne3_b8_icub_left_tool.pth\", DEVICE, input_dim, output_dim)\n",
    "# simple_mlp_improved_cae_right_tool = load_pretrained_mlp(simpleMLP, model_path, \"simple/simple_mlp_improved_cae_ne3_b8_icub_right_tool.pth\", DEVICE, input_dim, output_dim)"
   ]
  },
  {
   "cell_type": "code",
   "execution_count": 11,
   "metadata": {},
   "outputs": [
    {
     "name": "stdout",
     "output_type": "stream",
     "text": [
      "Saved confusion matrix for simpleCAE+simpleMLP+Fusion\n"
     ]
    }
   ],
   "source": [
    "# simpleCAE + simpleMLP\n",
    "\n",
    "# Assuming the datasets for all sensors are the same size\n",
    "dataset_size = 640  # Replace with the actual size of your dataset\n",
    "shuffled_indices = torch.randperm(dataset_size).tolist()\n",
    "\n",
    "# Get dataloaders\n",
    "set_name = \"Testing\"\n",
    "test_loader_color, size = get_latent_dataloader(simple_cae_color, BASE_PATH, OBJECTS, TOOL_NAMES, ACTIONS, sensor_color, set_name, labelc=1, shuffle=False, batch_size=BATCH_SIZE, device=DEVICE, indices=shuffled_indices)\n",
    "test_loader_left, size = get_latent_dataloader(simple_cae_left, BASE_PATH, OBJECTS, TOOL_NAMES, ACTIONS, sensor_left, set_name, labelc=1, shuffle=False, batch_size=BATCH_SIZE, device=DEVICE, indices=shuffled_indices)\n",
    "test_loader_right, size = get_latent_dataloader(simple_cae_right, BASE_PATH, OBJECTS, TOOL_NAMES, ACTIONS, sensor_right, set_name, labelc=1, shuffle=False, batch_size=BATCH_SIZE, device=DEVICE, indices=shuffled_indices)\n",
    "test_loader_depth, size = get_latent_dataloader(simple_cae_depth, BASE_PATH, OBJECTS, TOOL_NAMES, ACTIONS, sensor_depth, set_name,labelc=1, shuffle=False, batch_size=BATCH_SIZE, device=DEVICE, indices=shuffled_indices)\n",
    "\n",
    "dataloaders = [test_loader_color, test_loader_left, test_loader_right, test_loader_depth]\n",
    "\n",
    "##### CONFIG\n",
    "output_dim = 4\n",
    "input_dim = size\n",
    "\n",
    "model_path = \"C:/Users/Frank/OneDrive/Bureaublad/ARC/deep-multimodal-learning/weights_mlp/\"\n",
    "simple_mlp_color = load_pretrained_mlp(simpleMLP, model_path, \"simple/simple_mlp_ne3_b8_color_action.pth\", DEVICE, input_dim, output_dim)\n",
    "simple_mlp_left = load_pretrained_mlp(simpleMLP, model_path, \"simple/simple_mlp_ne3_b8_icub_left_action.pth\", DEVICE, input_dim, output_dim)\n",
    "simple_mlp_right = load_pretrained_mlp(simpleMLP, model_path, \"simple/simple_mlp_ne3_b8_icub_right_action.pth\", DEVICE, input_dim, output_dim)\n",
    "simple_mlp_depth = load_pretrained_mlp(simpleMLP, model_path, \"simple/simple_mlp_ne3_b8_depthcolormap_action.pth\", DEVICE, input_dim, output_dim)\n",
    "\n",
    "models = [simple_mlp_color, simple_mlp_left, simple_mlp_right, simple_mlp_depth]\n",
    "\n",
    "model_predictions = [get_model_predictions(model, dataloader, DEVICE) for model, dataloader in zip(models, dataloaders)] \n",
    "\n",
    "color = model_predictions[0]\n",
    "left = model_predictions[1]\n",
    "right = model_predictions[2]\n",
    "depth = model_predictions[3]\n",
    "\n",
    "# Gather true labels and calculate accuracy\n",
    "class_names = ['left_to_right', 'pull', 'push', 'right_to_left']\n",
    "#class_names = ['hook', 'ruler', 'spatula', 'sshot']\n",
    "true_labels = [labels.cpu().numpy() for _, labels in test_loader_color]\n",
    "true_labels = unpack_labels(true_labels)\n",
    "\n",
    "# color_preds = get_predictions(color)\n",
    "# left_preds = get_predictions(left)\n",
    "# right_preds = get_predictions(right)\n",
    "# depth_preds = get_predictions(depth)  \n",
    "\n",
    "# dir = \"C:/Users/Frank/OneDrive/Bureaublad/ARC/deep-multimodal-learning/models/runs/results/matrixes/correct/\"\n",
    "# get_confusion_matrix([color_preds, left_preds, right_preds, depth_preds], class_names, true_labels, \"simpleCAE+simpleMLP\", dir)\n",
    "\n",
    "final_predictions = average_fusion_predictions(model_predictions)\n",
    "\n",
    "# Convert to predicted classes\n",
    "predicted_classes = [pred.argmax(dim=-1) for pred in final_predictions]\n",
    "predicted_classes_list = [pred.cpu().numpy() if torch.is_tensor(pred) else pred for pred in predicted_classes]\n",
    "\n",
    "dir = \"C:/Users/Frank/OneDrive/Bureaublad/ARC/deep-multimodal-learning/models/runs/results/matrixes/correct/\"\n",
    "pr = get_predictions(final_predictions)\n",
    "get_confusion_matrix_fusion(pr, class_names, true_labels,\"simpleCAE+simpleMLP+Fusion\", dir)"
   ]
  },
  {
   "cell_type": "code",
   "execution_count": 12,
   "metadata": {},
   "outputs": [
    {
     "name": "stdout",
     "output_type": "stream",
     "text": [
      "Saved confusion matrix for simpleCAE+improvedMLP+Fusion\n"
     ]
    }
   ],
   "source": [
    "# Assuming the datasets for all sensors are the same size\n",
    "dataset_size = 640  # Replace with the actual size of your dataset\n",
    "shuffled_indices = torch.randperm(dataset_size).tolist()\n",
    "\n",
    "# Get dataloaders\n",
    "set_name = \"Testing\"\n",
    "test_loader_color, size = get_latent_dataloader(simple_cae_color, BASE_PATH, OBJECTS, TOOL_NAMES, ACTIONS, sensor_color, set_name, labelc=1, shuffle=False, batch_size=BATCH_SIZE, device=DEVICE, indices=shuffled_indices)\n",
    "test_loader_left, size = get_latent_dataloader(simple_cae_left, BASE_PATH, OBJECTS, TOOL_NAMES, ACTIONS, sensor_left, set_name, labelc=1, shuffle=False, batch_size=BATCH_SIZE, device=DEVICE, indices=shuffled_indices)\n",
    "test_loader_right, size = get_latent_dataloader(simple_cae_right, BASE_PATH, OBJECTS, TOOL_NAMES, ACTIONS, sensor_right, set_name, labelc=1, shuffle=False, batch_size=BATCH_SIZE, device=DEVICE, indices=shuffled_indices)\n",
    "test_loader_depth, size = get_latent_dataloader(simple_cae_depth, BASE_PATH, OBJECTS, TOOL_NAMES, ACTIONS, sensor_depth, set_name,labelc=1, shuffle=False, batch_size=BATCH_SIZE, device=DEVICE, indices=shuffled_indices)\n",
    "\n",
    "dataloaders = [test_loader_color, test_loader_left, test_loader_right, test_loader_depth]\n",
    "\n",
    "##### CONFIG\n",
    "output_dim = 4\n",
    "input_dim = size\n",
    "\n",
    "model_path = \"C:/Users/Frank/OneDrive/Bureaublad/ARC/deep-multimodal-learning/weights_mlp/\"\n",
    "improved_mlp_simple_color = load_pretrained_mlp(improvedMLP, model_path, \"simple/improved_mlp_simple_cae_ne3_b8_color.pth\", DEVICE, input_dim, output_dim)\n",
    "improved_mlp_simple_left = load_pretrained_mlp(improvedMLP, model_path, \"simple/improved_mlp_simple_cae_ne3_b8_icub_left.pth\", DEVICE, input_dim, output_dim)\n",
    "improved_mlp_simple_right = load_pretrained_mlp(improvedMLP, model_path, \"simple/improved_mlp_simple_cae_ne3_b8_icub_right.pth\", DEVICE, input_dim, output_dim)\n",
    "improved_mlp_simple_depth = load_pretrained_mlp(improvedMLP, model_path, \"simple/improved_mlp_simple_cae_ne3_b8_depthcolormap.pth\", DEVICE, input_dim, output_dim)\n",
    "\n",
    "models = [improved_mlp_simple_color, improved_mlp_simple_left, improved_mlp_simple_right, improved_mlp_simple_depth]\n",
    "\n",
    "model_predictions = [get_model_predictions(model, dataloader, DEVICE) for model, dataloader in zip(models, dataloaders)] \n",
    "\n",
    "color = model_predictions[0]\n",
    "left = model_predictions[1]\n",
    "right = model_predictions[2]\n",
    "depth = model_predictions[3]\n",
    "\n",
    "# Gather true labels and calculate accuracy\n",
    "class_names = ['left_to_right', 'pull', 'push', 'right_to_left']\n",
    "#class_names = ['hook', 'ruler', 'spatula', 'sshot']\n",
    "true_labels = [labels.cpu().numpy() for _, labels in test_loader_color]\n",
    "true_labels = unpack_labels(true_labels)\n",
    "\n",
    "# color_preds = get_predictions(color)\n",
    "# left_preds = get_predictions(left)\n",
    "# right_preds = get_predictions(right)\n",
    "# depth_preds = get_predictions(depth)  \n",
    "\n",
    "# dir = \"C:/Users/Frank/OneDrive/Bureaublad/ARC/deep-multimodal-learning/models/runs/results/matrixes/correct/\"\n",
    "# get_confusion_matrix([color_preds, left_preds, right_preds, depth_preds], class_names, true_labels, \"simpleCAE+improvedMLP\", dir)\n",
    "\n",
    "\n",
    "final_predictions = average_fusion_predictions(model_predictions)\n",
    "\n",
    "# Convert to predicted classes\n",
    "predicted_classes = [pred.argmax(dim=-1) for pred in final_predictions]\n",
    "predicted_classes_list = [pred.cpu().numpy() if torch.is_tensor(pred) else pred for pred in predicted_classes]\n",
    "\n",
    "dir = \"C:/Users/Frank/OneDrive/Bureaublad/ARC/deep-multimodal-learning/models/runs/results/matrixes/correct/\"\n",
    "pr = get_predictions(final_predictions)\n",
    "get_confusion_matrix_fusion(pr, class_names, true_labels,\"simpleCAE+improvedMLP+Fusion\", dir)"
   ]
  },
  {
   "cell_type": "code",
   "execution_count": 13,
   "metadata": {},
   "outputs": [
    {
     "name": "stdout",
     "output_type": "stream",
     "text": [
      "Saved confusion matrix for improvedCAE+simpleMLP+Fusion\n"
     ]
    }
   ],
   "source": [
    "# Assuming the datasets for all sensors are the same size\n",
    "dataset_size = 640  # Replace with the actual size of your dataset\n",
    "shuffled_indices = torch.randperm(dataset_size).tolist()\n",
    "\n",
    "# Get dataloaders\n",
    "set_name = \"Testing\"\n",
    "test_loader_color, size = get_latent_dataloader(improved_cae_color, BASE_PATH, OBJECTS, TOOL_NAMES, ACTIONS, sensor_color, set_name, labelc=1, shuffle=False, batch_size=BATCH_SIZE, device=DEVICE, indices=shuffled_indices)\n",
    "test_loader_left, size = get_latent_dataloader(improved_cae_left, BASE_PATH, OBJECTS, TOOL_NAMES, ACTIONS, sensor_left, set_name, labelc=1, shuffle=False, batch_size=BATCH_SIZE, device=DEVICE, indices=shuffled_indices)\n",
    "test_loader_right, size = get_latent_dataloader(improved_cae_right, BASE_PATH, OBJECTS, TOOL_NAMES, ACTIONS, sensor_right, set_name, labelc=1, shuffle=False, batch_size=BATCH_SIZE, device=DEVICE, indices=shuffled_indices)\n",
    "test_loader_depth, size = get_latent_dataloader(improved_cae_depth, BASE_PATH, OBJECTS, TOOL_NAMES, ACTIONS, sensor_depth, set_name,labelc=1, shuffle=False, batch_size=BATCH_SIZE, device=DEVICE, indices=shuffled_indices)\n",
    "\n",
    "dataloaders = [test_loader_color, test_loader_left, test_loader_right, test_loader_depth]\n",
    "\n",
    "##### CONFIG\n",
    "output_dim = 4\n",
    "input_dim = size\n",
    "\n",
    "simple_mlp_improved_cae_color = load_pretrained_mlp(simpleMLP, model_path, \"simple/simple_mlp_improved_cae_ne3_b8_color_action.pth\", DEVICE, input_dim, output_dim)\n",
    "simple_mlp_improved_cae_left = load_pretrained_mlp(simpleMLP, model_path, \"simple/simple_mlp_improved_cae_ne3_b8_icub_left_action.pth\", DEVICE, input_dim, output_dim)\n",
    "simple_mlp_improved_cae_right = load_pretrained_mlp(simpleMLP, model_path, \"simple/simple_mlp_improved_cae_ne3_b8_icub_right_action.pth\", DEVICE, input_dim, output_dim)\n",
    "simple_mlp_improved_cae_depth = load_pretrained_mlp(simpleMLP, model_path, \"simple/simple_mlp_improved_cae_ne3_b8_depthcolormap_action.pth\", DEVICE, input_dim, output_dim)\n",
    "\n",
    "models = [simple_mlp_improved_cae_color, simple_mlp_improved_cae_left, simple_mlp_improved_cae_right, simple_mlp_improved_cae_depth]\n",
    "\n",
    "model_predictions = [get_model_predictions(model, dataloader, DEVICE) for model, dataloader in zip(models, dataloaders)] \n",
    "\n",
    "color = model_predictions[0]\n",
    "left = model_predictions[1]\n",
    "right = model_predictions[2]\n",
    "depth = model_predictions[3]\n",
    "\n",
    "# Gather true labels and calculate accuracy\n",
    "class_names = ['left_to_right', 'pull', 'push', 'right_to_left']\n",
    "#class_names = ['hook', 'ruler', 'spatula', 'sshot']\n",
    "true_labels = [labels.cpu().numpy() for _, labels in test_loader_color]\n",
    "true_labels = unpack_labels(true_labels)\n",
    "\n",
    "# color_preds = get_predictions(color)\n",
    "# left_preds = get_predictions(left)\n",
    "# right_preds = get_predictions(right)\n",
    "# depth_preds = get_predictions(depth)  \n",
    "\n",
    "# dir = \"C:/Users/Frank/OneDrive/Bureaublad/ARC/deep-multimodal-learning/models/runs/results/matrixes/correct/\"\n",
    "# get_confusion_matrix([color_preds, left_preds, right_preds, depth_preds], class_names, true_labels, \"improvedCAE+simpleMLP\", dir)\n",
    "\n",
    "\n",
    "final_predictions = average_fusion_predictions(model_predictions)\n",
    "\n",
    "# Convert to predicted classes\n",
    "predicted_classes = [pred.argmax(dim=-1) for pred in final_predictions]\n",
    "predicted_classes_list = [pred.cpu().numpy() if torch.is_tensor(pred) else pred for pred in predicted_classes]\n",
    "\n",
    "dir = \"C:/Users/Frank/OneDrive/Bureaublad/ARC/deep-multimodal-learning/models/runs/results/matrixes/correct/\"\n",
    "pr = get_predictions(final_predictions)\n",
    "get_confusion_matrix_fusion(pr, class_names, true_labels,\"improvedCAE+simpleMLP+Fusion\", dir)"
   ]
  },
  {
   "cell_type": "code",
   "execution_count": 14,
   "metadata": {},
   "outputs": [
    {
     "name": "stdout",
     "output_type": "stream",
     "text": [
      "Saved confusion matrix for improvedCAE+improvedMLP+Fusion\n"
     ]
    }
   ],
   "source": [
    "# Assuming the datasets for all sensors are the same size\n",
    "dataset_size = 640  # Replace with the actual size of your dataset\n",
    "shuffled_indices = torch.randperm(dataset_size).tolist()\n",
    "\n",
    "# Get dataloaders\n",
    "set_name = \"Testing\"\n",
    "test_loader_color, size = get_latent_dataloader(improved_cae_color, BASE_PATH, OBJECTS, TOOL_NAMES, ACTIONS, sensor_color, set_name, labelc=1, shuffle=False, batch_size=BATCH_SIZE, device=DEVICE, indices=shuffled_indices)\n",
    "test_loader_left, size = get_latent_dataloader(improved_cae_left, BASE_PATH, OBJECTS, TOOL_NAMES, ACTIONS, sensor_left, set_name, labelc=1, shuffle=False, batch_size=BATCH_SIZE, device=DEVICE, indices=shuffled_indices)\n",
    "test_loader_right, size = get_latent_dataloader(improved_cae_right, BASE_PATH, OBJECTS, TOOL_NAMES, ACTIONS, sensor_right, set_name, labelc=1, shuffle=False, batch_size=BATCH_SIZE, device=DEVICE, indices=shuffled_indices)\n",
    "test_loader_depth, size = get_latent_dataloader(improved_cae_depth, BASE_PATH, OBJECTS, TOOL_NAMES, ACTIONS, sensor_depth, set_name,labelc=1, shuffle=False, batch_size=BATCH_SIZE, device=DEVICE, indices=shuffled_indices)\n",
    "\n",
    "dataloaders = [test_loader_color, test_loader_left, test_loader_right, test_loader_depth]\n",
    "\n",
    "##### CONFIG\n",
    "output_dim = 4\n",
    "input_dim = size\n",
    "\n",
    "improved_mlp_improved_cae_color = load_pretrained_mlp(improvedMLP, model_path, \"simple/improved_mlp_improved_cae_ne3_b8_color_action.pth\", DEVICE, input_dim, output_dim)\n",
    "improved_mlp_improved_cae_left = load_pretrained_mlp(improvedMLP, model_path, \"simple/improved_mlp_improved_cae_ne3_b8_icub_left_action.pth\", DEVICE, input_dim, output_dim)\n",
    "improved_mlp_improved_cae_right = load_pretrained_mlp(improvedMLP, model_path, \"simple/improved_mlp_improved_cae_ne3_b8_icub_right_action.pth\", DEVICE, input_dim, output_dim)\n",
    "improved_mlp_improved_cae_depth = load_pretrained_mlp(improvedMLP, model_path, \"simple/improved_mlp_improved_cae_ne3_b8_depthcolormap_action.pth\", DEVICE, input_dim, output_dim)\n",
    "\n",
    "models = [improved_mlp_improved_cae_color, improved_mlp_improved_cae_left, improved_mlp_improved_cae_right, improved_mlp_improved_cae_depth]\n",
    "\n",
    "model_predictions = [get_model_predictions(model, dataloader, DEVICE) for model, dataloader in zip(models, dataloaders)] \n",
    "\n",
    "color = model_predictions[0]\n",
    "left = model_predictions[1]\n",
    "right = model_predictions[2]\n",
    "depth = model_predictions[3]\n",
    "\n",
    "# Gather true labels and calculate accuracy\n",
    "class_names = ['left_to_right', 'pull', 'push', 'right_to_left']\n",
    "#class_names = ['hook', 'ruler', 'spatula', 'sshot']\n",
    "true_labels = [labels.cpu().numpy() for _, labels in test_loader_color]\n",
    "true_labels = unpack_labels(true_labels)\n",
    "\n",
    "# color_preds = get_predictions(color)\n",
    "# left_preds = get_predictions(left)\n",
    "# right_preds = get_predictions(right)\n",
    "# depth_preds = get_predictions(depth)  \n",
    "\n",
    "# dir = \"C:/Users/Frank/OneDrive/Bureaublad/ARC/deep-multimodal-learning/models/runs/results/matrixes/correct/\"\n",
    "# get_confusion_matrix([color_preds, left_preds, right_preds, depth_preds], class_names, true_labels, \"improvedCAE+improvedMLP\", dir)\n",
    "\n",
    "final_predictions = average_fusion_predictions(model_predictions)\n",
    "\n",
    "# Convert to predicted classes\n",
    "predicted_classes = [pred.argmax(dim=-1) for pred in final_predictions]\n",
    "predicted_classes_list = [pred.cpu().numpy() if torch.is_tensor(pred) else pred for pred in predicted_classes]\n",
    "\n",
    "dir = \"C:/Users/Frank/OneDrive/Bureaublad/ARC/deep-multimodal-learning/models/runs/results/matrixes/correct/\"\n",
    "pr = get_predictions(final_predictions)\n",
    "get_confusion_matrix_fusion(pr, class_names, true_labels,\"improvedCAE+improvedMLP+Fusion\", dir)"
   ]
  },
  {
   "cell_type": "code",
   "execution_count": 15,
   "metadata": {},
   "outputs": [
    {
     "name": "stdout",
     "output_type": "stream",
     "text": [
      "Saved confusion matrix for improvedDCAE+simpleMLP+Fusion\n"
     ]
    }
   ],
   "source": [
    "# Assuming the datasets for all sensors are the same size\n",
    "dataset_size = 640  # Replace with the actual size of your dataset\n",
    "shuffled_indices = torch.randperm(dataset_size).tolist()\n",
    "\n",
    "# Get dataloaders\n",
    "set_name = \"Testing\"\n",
    "test_loader_color, size = get_latent_dataloader(improved_dcae_color, BASE_PATH, OBJECTS, TOOL_NAMES, ACTIONS, sensor_color, set_name, labelc=1, shuffle=False, batch_size=BATCH_SIZE, device=DEVICE, indices=shuffled_indices)\n",
    "test_loader_left, size = get_latent_dataloader(improved_dcae_left, BASE_PATH, OBJECTS, TOOL_NAMES, ACTIONS, sensor_left, set_name, labelc=1, shuffle=False, batch_size=BATCH_SIZE, device=DEVICE, indices=shuffled_indices)\n",
    "test_loader_right, size = get_latent_dataloader(improved_dcae_right, BASE_PATH, OBJECTS, TOOL_NAMES, ACTIONS, sensor_right, set_name, labelc=1, shuffle=False, batch_size=BATCH_SIZE, device=DEVICE, indices=shuffled_indices)\n",
    "\n",
    "dataloaders = [test_loader_color, test_loader_left, test_loader_right]\n",
    "\n",
    "##### CONFIG\n",
    "output_dim = 4\n",
    "input_dim = size\n",
    "\n",
    "improved_mlp_improved_cae_color_noise = load_pretrained_mlp(simpleMLP, model_path, \"simple/simple_mlp_improved_cae_ne3_b8_color_noise.pth\", DEVICE, input_dim, output_dim)\n",
    "improved_mlp_improved_cae_left_noise = load_pretrained_mlp(simpleMLP, model_path, \"simple/simple_mlp_improved_cae_ne3_b8_icub_left_noise.pth\", DEVICE, input_dim, output_dim)\n",
    "improved_mlp_improved_cae_right_noise = load_pretrained_mlp(simpleMLP, model_path, \"simple/simple_mlp_improved_cae_ne3_b8_icub_right_noise.pth\", DEVICE, input_dim, output_dim)\n",
    "\n",
    "models = [improved_mlp_improved_cae_color_noise, improved_mlp_improved_cae_left_noise, improved_mlp_improved_cae_right_noise]\n",
    "\n",
    "model_predictions = [get_model_predictions(model, dataloader, DEVICE) for model, dataloader in zip(models, dataloaders)] \n",
    "\n",
    "color = model_predictions[0]\n",
    "left = model_predictions[1]\n",
    "right = model_predictions[2]\n",
    "\n",
    "# Gather true labels and calculate accuracy\n",
    "class_names = ['left_to_right', 'pull', 'push', 'right_to_left']\n",
    "#class_names = ['hook', 'ruler', 'spatula', 'sshot']\n",
    "true_labels = [labels.cpu().numpy() for _, labels in test_loader_color]\n",
    "true_labels = unpack_labels(true_labels)\n",
    "\n",
    "# color_preds = get_predictions(color)\n",
    "# left_preds = get_predictions(left)\n",
    "# right_preds = get_predictions(right)\n",
    "\n",
    "# dir = \"C:/Users/Frank/OneDrive/Bureaublad/ARC/deep-multimodal-learning/models/runs/results/matrixes/correct/\"\n",
    "# get_confusion_matrix([color_preds, left_preds, right_preds], class_names, true_labels, \"improvedDCAE+simpleMLP\", dir)\n",
    "\n",
    "final_predictions = average_fusion_predictions(model_predictions)\n",
    "\n",
    "# Convert to predicted classes\n",
    "predicted_classes = [pred.argmax(dim=-1) for pred in final_predictions]\n",
    "predicted_classes_list = [pred.cpu().numpy() if torch.is_tensor(pred) else pred for pred in predicted_classes]\n",
    "\n",
    "dir = \"C:/Users/Frank/OneDrive/Bureaublad/ARC/deep-multimodal-learning/models/runs/results/matrixes/correct/\"\n",
    "pr = get_predictions(final_predictions)\n",
    "get_confusion_matrix_fusion(pr, class_names, true_labels,\"improvedDCAE+simpleMLP+Fusion\", dir)"
   ]
  },
  {
   "cell_type": "code",
   "execution_count": 16,
   "metadata": {},
   "outputs": [
    {
     "name": "stdout",
     "output_type": "stream",
     "text": [
      "Saved confusion matrix for improvedDCAE+improvedMLP+Fusion\n"
     ]
    }
   ],
   "source": [
    "# Assuming the datasets for all sensors are the same size\n",
    "dataset_size = 640  # Replace with the actual size of your dataset\n",
    "shuffled_indices = torch.randperm(dataset_size).tolist()\n",
    "\n",
    "# Get dataloaders\n",
    "set_name = \"Testing\"\n",
    "test_loader_color, size = get_latent_dataloader(improved_dcae_color, BASE_PATH, OBJECTS, TOOL_NAMES, ACTIONS, sensor_color, set_name, labelc=1, shuffle=False, batch_size=BATCH_SIZE, device=DEVICE, indices=shuffled_indices)\n",
    "test_loader_left, size = get_latent_dataloader(improved_dcae_left, BASE_PATH, OBJECTS, TOOL_NAMES, ACTIONS, sensor_left, set_name, labelc=1, shuffle=False, batch_size=BATCH_SIZE, device=DEVICE, indices=shuffled_indices)\n",
    "test_loader_right, size = get_latent_dataloader(improved_dcae_right, BASE_PATH, OBJECTS, TOOL_NAMES, ACTIONS, sensor_right, set_name, labelc=1, shuffle=False, batch_size=BATCH_SIZE, device=DEVICE, indices=shuffled_indices)\n",
    "\n",
    "dataloaders = [test_loader_color, test_loader_left, test_loader_right]\n",
    "\n",
    "##### CONFIG\n",
    "output_dim = 4\n",
    "input_dim = size\n",
    "\n",
    "improved_mlp_improved_cae_color_noise = load_pretrained_mlp(improvedMLP, model_path, \"simple/improved_mlp_improved_cae_ne3_b8_color_noise.pth\", DEVICE, input_dim, output_dim)\n",
    "improved_mlp_improved_cae_left_noise = load_pretrained_mlp(improvedMLP, model_path, \"simple/improved_mlp_improved_cae_ne3_b8_icub_left_noise.pth\", DEVICE, input_dim, output_dim)\n",
    "improved_mlp_improved_cae_right_noise = load_pretrained_mlp(improvedMLP, model_path, \"simple/improved_mlp_improved_cae_ne3_b8_icub_right_noise.pth\", DEVICE, input_dim, output_dim)\n",
    "\n",
    "models = [improved_mlp_improved_cae_color_noise, improved_mlp_improved_cae_left_noise, improved_mlp_improved_cae_right_noise]\n",
    "\n",
    "model_predictions = [get_model_predictions(model, dataloader, DEVICE) for model, dataloader in zip(models, dataloaders)] \n",
    "\n",
    "color = model_predictions[0]\n",
    "left = model_predictions[1]\n",
    "right = model_predictions[2]\n",
    "\n",
    "# Gather true labels and calculate accuracy\n",
    "class_names = ['left_to_right', 'pull', 'push', 'right_to_left']\n",
    "#class_names = ['hook', 'ruler', 'spatula', 'sshot']\n",
    "true_labels = [labels.cpu().numpy() for _, labels in test_loader_color]\n",
    "true_labels = unpack_labels(true_labels)\n",
    "\n",
    "# color_preds = get_predictions(color)\n",
    "# left_preds = get_predictions(left)\n",
    "# right_preds = get_predictions(right)\n",
    "\n",
    "# dir = \"C:/Users/Frank/OneDrive/Bureaublad/ARC/deep-multimodal-learning/models/runs/results/matrixes/correct/\"\n",
    "# get_confusion_matrix([color_preds, left_preds, right_preds], class_names, true_labels, \"improvedDCAE+improvedMLP\", dir)\n",
    "\n",
    "final_predictions = average_fusion_predictions(model_predictions)\n",
    "\n",
    "# Convert to predicted classes\n",
    "predicted_classes = [pred.argmax(dim=-1) for pred in final_predictions]\n",
    "predicted_classes_list = [pred.cpu().numpy() if torch.is_tensor(pred) else pred for pred in predicted_classes]\n",
    "\n",
    "dir = \"C:/Users/Frank/OneDrive/Bureaublad/ARC/deep-multimodal-learning/models/runs/results/matrixes/correct/\"\n",
    "pr = get_predictions(final_predictions)\n",
    "get_confusion_matrix_fusion(pr, class_names, true_labels,\"improvedDCAE+improvedMLP+Fusion\", dir)\n"
   ]
  },
  {
   "cell_type": "code",
   "execution_count": null,
   "metadata": {},
   "outputs": [],
   "source": [
    "models = [mlp_color, mlp_left, mlp_right]\n",
    "\n",
    "# Get predictions\n",
    "model_predictions = [get_model_predictions(model, dataloader, DEVICE) for model, dataloader in zip(models, dataloaders)] \n",
    "\n",
    "final_predictions = average_fusion_predictions(model_predictions)\n",
    "\n",
    "# Convert to predicted classes\n",
    "predicted_classes = [pred.argmax(dim=-1) for pred in final_predictions]\n",
    "predicted_classes_list = [pred.cpu().numpy() if torch.is_tensor(pred) else pred for pred in predicted_classes]\n",
    "\n",
    "# Gather true labels and calculate accuracy\n",
    "class_names = ['left_to_right', 'pull', 'push', 'right_to_left']\n",
    "true_labels = [labels.cpu().numpy() for _, labels in test_loader_color]\n",
    "\n",
    "# color = model_predictions[0]\n",
    "# left = model_predictions[1]\n",
    "# right = model_predictions[2]\n",
    "# depth = model_predictions[3]\n",
    "\n",
    "# # Gather true labels and calculate accuracy\n",
    "# class_names = ['left_to_right', 'pull', 'push', 'right_to_left']\n",
    "# #class_names = ['hook', 'ruler', 'spatula', 'sshot']\n",
    "# true_labels = [labels.cpu().numpy() for _, labels in test_loader_color]\n",
    "# true_labels = unpack_labels(true_labels)\n",
    "\n",
    "# color_preds = get_predictions(color)\n",
    "# left_preds = get_predictions(left)\n",
    "# right_preds = get_predictions(right)\n",
    "# depth_preds = get_predictions(depth)  \n",
    "\n",
    "dir = \"C:/Users/Frank/OneDrive/Bureaublad/ARC/deep-multimodal-learning/models/runs/results/matrixes/\"\n",
    "pr = get_predictions(final_predictions)\n",
    "tl = unpack_labels(true_labels)\n",
    "get_confusion_matrix_fusion(pr, class_names, tl,\"simpleCAE+simpleMLP+Fusion\", dir)"
   ]
  },
  {
   "cell_type": "code",
   "execution_count": 20,
   "metadata": {},
   "outputs": [
    {
     "name": "stdout",
     "output_type": "stream",
     "text": [
      "Saved confusion matrix for Color sensor\n",
      "Saved confusion matrix for Icub_left sensor\n",
      "Saved confusion matrix for Icub_right sensor\n"
     ]
    }
   ],
   "source": [
    "dir = \"C:/Users/Frank/OneDrive/Bureaublad/ARC/deep-multimodal-learning/models/runs/results/matrixes/\"\n",
    "get_confusion_matrix([], class_names, true_labels, \"simpleCAE+simpleMLP+Fusion\", dir)"
   ]
  },
  {
   "cell_type": "code",
   "execution_count": 9,
   "metadata": {},
   "outputs": [
    {
     "name": "stdout",
     "output_type": "stream",
     "text": [
      "Saved confusion matrix for simpleCAE+improvedMLP+Fusion sensor\n"
     ]
    }
   ],
   "source": [
    "dir = \"C:/Users/Frank/OneDrive/Bureaublad/ARC/deep-multimodal-learning/models/runs/results/matrixes/\"\n",
    "pr = get_predictions(final_predictions)\n",
    "tl = unpack_labels(true_labels)\n",
    "get_confusion_matrix_fusion(pr, class_names, tl,\"simpleCAE+improvedMLP+Fusion\", dir)"
   ]
  },
  {
   "cell_type": "code",
   "execution_count": null,
   "metadata": {},
   "outputs": [],
   "source": [
    "# color = model_predictions[0]\n",
    "# left = model_predictions[1]\n",
    "# right = model_predictions[2]\n",
    "# depth = model_predictions[3]\n",
    "\n",
    "# # Gather true labels and calculate accuracy\n",
    "# class_names = ['left_to_right', 'pull', 'push', 'right_to_left']\n",
    "# #class_names = ['hook', 'ruler', 'spatula', 'sshot']\n",
    "# true_labels = [labels.cpu().numpy() for _, labels in test_loader_color]\n",
    "# true_labels = unpack_labels(true_labels)\n",
    "\n",
    "# color_preds = get_predictions(color)\n",
    "# left_preds = get_predictions(left)\n",
    "# right_preds = get_predictions(right)\n",
    "# depth_preds = get_predictions(depth)  "
   ]
  },
  {
   "cell_type": "code",
   "execution_count": 8,
   "metadata": {},
   "outputs": [
    {
     "name": "stdout",
     "output_type": "stream",
     "text": [
      "Fusion accuracy: 0.884375\n"
     ]
    }
   ],
   "source": [
    "# Combine and average predictions\n",
    "final_predictions = average_fusion_predictions(model_predictions)\n",
    "\n",
    "# Convert to predicted classes\n",
    "predicted_classes = [pred.argmax(dim=-1) for pred in final_predictions]\n",
    "predicted_classes_list = [pred.cpu().numpy() if torch.is_tensor(pred) else pred for pred in predicted_classes]\n",
    "\n",
    "# Gather true labels and calculate accuracy\n",
    "class_names = ['left_to_right', 'pull', 'push', 'right_to_left']\n",
    "true_labels = [labels.cpu().numpy() for _, labels in test_loader_color]\n",
    "\n",
    "# accuracy = calculate_fusion_accuracy(predicted_classes_list, true_labels)\n",
    "# print(f\"Fusion accuracy: {accuracy}\")\n",
    "\n",
    "dir = \"C:/Users/Frank/OneDrive/Bureaublad/ARC/deep-multimodal-learning/models/runs/results/matrixes/correct/\"\n",
    "pr = get_predictions(final_predictions)\n",
    "tl = unpack_labels(true_labels)\n",
    "get_confusion_matrix_fusion(pr, class_names, tl,\"simpleCAE+improvedMLP+Fusion\", dir)"
   ]
  },
  {
   "cell_type": "code",
   "execution_count": 19,
   "metadata": {},
   "outputs": [
    {
     "name": "stdout",
     "output_type": "stream",
     "text": [
      "color:  0.2796875  left:  0.25  right:  0.2765625\n"
     ]
    }
   ],
   "source": [
    "# get_accuracy([color_preds, left_preds, right_preds], true_labels)"
   ]
  },
  {
   "cell_type": "code",
   "execution_count": 10,
   "metadata": {},
   "outputs": [
    {
     "data": {
      "image/png": "[encoded data removed]",
      "text/plain": [
       "<Figure size 1000x800 with 2 Axes>"
      ]
     },
     "metadata": {},
     "output_type": "display_data"
    }
   ],
   "source": [
    "import matplotlib.pyplot as plt\n",
    "import seaborn as sns\n",
    "import numpy as np\n",
    "\n",
    "# Your confusion matrix data as a 2D array (example data, replace with your actual data)\n",
    "confusion_matrix_data = np.array([[0, 6, 11, 143],\n",
    "                                  [0, 0, 160, 0],\n",
    "                                  [1, 154, 2, 3],\n",
    "                                  [142, 7, 11, 0]])\n",
    "\n",
    "# The labels for the classes\n",
    "labels = ['left_to_right', 'pull', 'push', 'right_to_left']\n",
    "\n",
    "# Creating a seaborn heatmap for the confusion matrix\n",
    "plt.figure(figsize=(10, 8))\n",
    "sns.heatmap(confusion_matrix_data.T, annot=True, fmt='d', cmap='Blues', xticklabels=labels, yticklabels=labels)\n",
    "\n",
    "# Labels, title and ticks\n",
    "plt.xlabel('True Labels')\n",
    "plt.ylabel('Predicted Labels')\n",
    "plt.title('Confusion Matrix with Conventional Orientation')\n",
    "plt.show()"
   ]
  },
  {
   "cell_type": "code",
   "execution_count": null,
   "metadata": {},
   "outputs": [],
   "source": []
  }
 ],
 "metadata": {
  "kernelspec": {
   "display_name": "Python 3",
   "language": "python",
   "name": "python3"
  },
  "language_info": {
   "codemirror_mode": {
    "name": "ipython",
    "version": 3
   },
   "file_extension": ".py",
   "mimetype": "text/x-python",
   "name": "python",
   "nbconvert_exporter": "python",
   "pygments_lexer": "ipython3",
   "version": "3.11.3"
  }
 },
 "nbformat": 4,
 "nbformat_minor": 2
}
