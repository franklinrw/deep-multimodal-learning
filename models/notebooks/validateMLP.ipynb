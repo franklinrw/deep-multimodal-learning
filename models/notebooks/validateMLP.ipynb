{
 "cells": [
  {
   "cell_type": "code",
   "execution_count": 1,
   "metadata": {},
   "outputs": [],
   "source": [
    "import sys\n",
    "import os\n",
    "sys.path.insert(0, '../')\n",
    "\n",
    "import torch\n",
    "import torch.nn as nn\n",
    "from functions import get_loader\n",
    "\n",
    "from ae_functions import get_latent_dataset\n",
    "from ae_models import simpleCAE, improvedCAE\n",
    "\n",
    "from mlp_models import simpleMLP, improvedMLP\n",
    "from mlp_functions import train_mlp, validate_mlp"
   ]
  },
  {
   "cell_type": "code",
   "execution_count": 6,
   "metadata": {},
   "outputs": [
    {
     "name": "stdout",
     "output_type": "stream",
     "text": [
      "CUDA is available. Using GPU...\n"
     ]
    }
   ],
   "source": [
    "DEVICE = \"\"\n",
    "if torch.cuda.is_available():\n",
    "    DEVICE = torch.device(\"cuda\")\n",
    "    print(\"CUDA is available. Using GPU...\")\n",
    "else:\n",
    "    DEVICE = torch.device(\"cpu\")\n",
    "    print(\"CUDA is not available. Using CPU...\")\n",
    "\n",
    "BASE_PATH = 'C:/Users/Frank/OneDrive/Bureaublad/ARC/deep-multimodal-learning/fusion'\n",
    "\n",
    "# Define the tool names and actions\n",
    "TOOL_NAMES = ['hook', 'ruler', 'spatula', 'sshot']\n",
    "ACTIONS = ['left_to_right', 'pull', 'push', 'right_to_left']\n",
    "\n",
    "# All available object names\n",
    "OBJECTS = ['0_woodenCube', '1_pearToy', '2_yogurtYellowbottle', '3_cowToy', '4_tennisBallYellowGreen',\n",
    "            '5_blackCoinbag', '6_lemonSodaCan', '7_peperoneGreenToy', '8_boxEgg','9_pumpkinToy',\n",
    "            '10_tomatoCan', '11_boxMilk', '12_containerNuts', '13_cornCob', '14_yellowFruitToy',\n",
    "            '15_bottleNailPolisher', '16_boxRealSense', '17_clampOrange', '18_greenRectangleToy', '19_ketchupToy']\n",
    "\n",
    "sensor_color = \"color\"\n",
    "sensor_left = \"icub_left\"\n",
    "sensor_right = \"icub_right\"\n",
    "sensor_depth = \"depthcolormap\"\n",
    "\n",
    "BATCH_SIZE = 8\n",
    "NUM_EPOCHS = 3\n",
    "LR_RATE = 1e-3\n",
    "SENSOR = \"color\"\n",
    "\n",
    "train_loader = get_loader(BASE_PATH, OBJECTS, TOOL_NAMES, ACTIONS, sensor_color, \"training\", batch_size=BATCH_SIZE)\n",
    "val_loader = get_loader(BASE_PATH, OBJECTS, TOOL_NAMES, ACTIONS, sensor_color, \"validation\", batch_size=BATCH_SIZE)\n",
    "test_loader = get_loader(BASE_PATH, OBJECTS, TOOL_NAMES, ACTIONS, sensor_color, \"testing\", batch_size=BATCH_SIZE)"
   ]
  },
  {
   "cell_type": "code",
   "execution_count": 7,
   "metadata": {},
   "outputs": [],
   "source": [
    "model_path = \"C:/Users/Frank/OneDrive/Bureaublad/ARC/deep-multimodal-learning/weights_ae/\"\n",
    "weight_name = \"simple/simple_cae_ne3_b8_color.pth\"\n",
    "trained_cae = simpleCAE().to(DEVICE)\n",
    "trained_cae.load_state_dict(torch.load(model_path+weight_name))\n",
    "\n",
    "# Extract features from the train and validation sets\n",
    "train_dataset = get_latent_dataset(trained_cae, test_loader, label=1, add_noise=False, is_depth=False, device=DEVICE)\n",
    "val_dataset = get_latent_dataset(trained_cae, val_loader, label=1, add_noise=False, is_depth=False, device=DEVICE)\n",
    "\n",
    "input_dim = train_dataset[:][0].size(1)\n",
    "output_dim = 4 \n",
    "\n",
    "# Initialize a new MLP model with the same architecture\n",
    "model_path = \"C:/Users/Frank/OneDrive/Bureaublad/ARC/deep-multimodal-learning/weights_mlp/\"\n",
    "weight_name = \"simple/simple_mlp_ne3_b8_color_action.pth\"\n",
    "mlp_loaded = simpleMLP(input_dim, output_dim)  # Replace 'input_dim' and 'output_dim' with appropriate values\n",
    "mlp_loaded.load_state_dict(torch.load(model_path+weight_name))\n",
    "mlp_loaded = mlp_loaded.to('cuda')\n",
    "\n",
    "# Create DataLoaders for the extracted features\n",
    "mlp_train_loader = torch.utils.data.DataLoader(train_dataset, batch_size=BATCH_SIZE, shuffle=True)\n",
    "mlp_val_loader = torch.utils.data.DataLoader(val_dataset, batch_size=BATCH_SIZE, shuffle=False)\n",
    "\n",
    "# Initialize\n",
    "# mlp = simpleMLP(input_dim, output_dim).to(DEVICE)\n",
    "# mlp_optimizer = torch.optim.Adam(mlp.parameters(), lr=LR_RATE)\n",
    "mlp_lossfunction = nn.CrossEntropyLoss() \n",
    "\n",
    "save_path = f\"C:/Users/Frank/OneDrive/Bureaublad/ARC/deep-multimodal-learning/models/runs/results/improvedCAEimprovedMLPTool/{SENSOR}_B{BATCH_SIZE}_NE{NUM_EPOCHS}_LR{LR_RATE}/\"\n",
    "os.makedirs(save_path, exist_ok=True)"
   ]
  },
  {
   "cell_type": "code",
   "execution_count": 8,
   "metadata": {},
   "outputs": [
    {
     "name": "stdout",
     "output_type": "stream",
     "text": [
      "Validation Loss: 0.0294\n",
      "Validation Accuracy: 0.9281\n",
      "Validation Classification Report:\n",
      "              precision    recall  f1-score   support\n",
      "\n",
      "           0       0.94      0.90      0.92       160\n",
      "           1       0.91      0.90      0.91       160\n",
      "           2       0.88      0.99      0.94       160\n",
      "           3       0.99      0.92      0.95       160\n",
      "\n",
      "    accuracy                           0.93       640\n",
      "   macro avg       0.93      0.93      0.93       640\n",
      "weighted avg       0.93      0.93      0.93       640\n",
      "\n"
     ]
    }
   ],
   "source": [
    "validate_mlp(mlp_loaded, mlp_lossfunction, mlp_val_loader, 1, DEVICE, save_dir=None)"
   ]
  },
  {
   "cell_type": "code",
   "execution_count": null,
   "metadata": {},
   "outputs": [],
   "source": []
  }
 ],
 "metadata": {
  "kernelspec": {
   "display_name": "Python 3",
   "language": "python",
   "name": "python3"
  },
  "language_info": {
   "codemirror_mode": {
    "name": "ipython",
    "version": 3
   },
   "file_extension": ".py",
   "mimetype": "text/x-python",
   "name": "python",
   "nbconvert_exporter": "python",
   "pygments_lexer": "ipython3",
   "version": "3.11.3"
  }
 },
 "nbformat": 4,
 "nbformat_minor": 2
}
