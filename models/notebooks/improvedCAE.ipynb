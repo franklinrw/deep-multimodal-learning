{
 "cells": [
  {
   "cell_type": "code",
   "execution_count": 1,
   "metadata": {},
   "outputs": [],
   "source": [
    "import sys\n",
    "sys.path.insert(0, '../')\n",
    "\n",
    "import torch\n",
    "import torch.nn as nn\n",
    "from functions import get_loader, plot_histories, plot_history\n",
    "\n",
    "from ae_functions import train_autoencoder, validate_cae, visualize_latent_space, visualize_reconstruction, get_latent_dataset\n",
    "from ae_models import improvedCAE"
   ]
  },
  {
   "cell_type": "code",
   "execution_count": 2,
   "metadata": {},
   "outputs": [
    {
     "name": "stdout",
     "output_type": "stream",
     "text": [
      "CUDA is available. Using GPU...\n"
     ]
    }
   ],
   "source": [
    "DEVICE = \"\"\n",
    "if torch.cuda.is_available():\n",
    "    DEVICE = torch.device(\"cuda\")\n",
    "    print(\"CUDA is available. Using GPU...\")\n",
    "else:\n",
    "    DEVICE = torch.device(\"cpu\")\n",
    "    print(\"CUDA is not available. Using CPU...\")\n",
    "\n",
    "BASE_PATH = 'C:/Users/Frank/OneDrive/Bureaublad/ARC/deep-multimodal-learning/fusion'\n",
    "\n",
    "# Define the tool names and actions\n",
    "TOOL_NAMES = ['hook', 'ruler', 'spatula', 'sshot']\n",
    "ACTIONS = ['left_to_right', 'pull', 'push', 'right_to_left']\n",
    "\n",
    "# All available object names\n",
    "OBJECTS = ['0_woodenCube', '1_pearToy', '2_yogurtYellowbottle', '3_cowToy', '4_tennisBallYellowGreen',\n",
    "            '5_blackCoinbag', '6_lemonSodaCan', '7_peperoneGreenToy', '8_boxEgg','9_pumpkinToy',\n",
    "            '10_tomatoCan', '11_boxMilk', '12_containerNuts', '13_cornCob', '14_yellowFruitToy',\n",
    "            '15_bottleNailPolisher', '16_boxRealSense', '17_clampOrange', '18_greenRectangleToy', '19_ketchupToy']\n",
    "\n",
    "sensor_color = \"color\"\n",
    "sensor_left = \"icub_left\"\n",
    "sensor_right = \"icub_right\"\n",
    "sensor_depth = \"depthcolormap\"\n",
    "\n",
    "BATCH_SIZE = 8\n",
    "NUM_EPOCHS = 5\n",
    "LR_RATE = 1e-3\n",
    "\n",
    "train_loader = get_loader(BASE_PATH, OBJECTS, TOOL_NAMES, ACTIONS, sensor_color, \"training\", batch_size=BATCH_SIZE)\n",
    "val_loader = get_loader(BASE_PATH, OBJECTS, TOOL_NAMES, ACTIONS, sensor_color, \"validation\", batch_size=BATCH_SIZE)\n",
    "test_loader = get_loader(BASE_PATH, OBJECTS, TOOL_NAMES, ACTIONS, sensor_color, \"testing\", batch_size=BATCH_SIZE)"
   ]
  },
  {
   "cell_type": "code",
   "execution_count": 3,
   "metadata": {},
   "outputs": [],
   "source": [
    "# cae_lossfunction = nn.MSELoss()\n",
    "cae_lossfunction = nn.BCELoss()\n",
    "\n",
    "cae = improvedCAE(input_channels=3).to(DEVICE)\n",
    "\n",
    "optimizer= torch.optim.Adam(cae.parameters(), lr=LR_RATE)\n",
    "# optimizer = torch.optim.SGD(cae.parameters(), lr=LR_RATE, momentum=0.9)\n",
    "# optimizer = torch.optim.AdamW(cae.parameters(), lr=LR_RATE, weight_decay=1e-2)\n",
    "\n",
    "trained_cae, cae_epoch_loss_history = train_autoencoder(cae,\\\n",
    "                                                        train_loader,\\\n",
    "                                                        cae_lossfunction,\\\n",
    "                                                        optimizer,\\\n",
    "                                                        is_depth=False,\\\n",
    "                                                        num_epochs=NUM_EPOCHS,\\\n",
    "                                                        device=DEVICE,\\\n",
    "                                                        visualize=True)\n",
    "\n",
    "avg_val_loss, cae_validation_loss_history = validate_cae(trained_cae,\\\n",
    "                                                        test_loader,\\\n",
    "                                                        cae_lossfunction,\\\n",
    "                                                        is_depth = False,\\\n",
    "                                                        device = DEVICE)"
   ]
  },
  {
   "cell_type": "code",
   "execution_count": null,
   "metadata": {},
   "outputs": [],
   "source": []
  }
 ],
 "metadata": {
  "kernelspec": {
   "display_name": "Python 3",
   "language": "python",
   "name": "python3"
  },
  "language_info": {
   "codemirror_mode": {
    "name": "ipython",
    "version": 3
   },
   "file_extension": ".py",
   "mimetype": "text/x-python",
   "name": "python",
   "nbconvert_exporter": "python",
   "pygments_lexer": "ipython3",
   "version": "3.11.3"
  }
 },
 "nbformat": 4,
 "nbformat_minor": 2
}
