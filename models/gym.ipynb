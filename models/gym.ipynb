{
 "cells": [
  {
   "cell_type": "code",
   "execution_count": 6,
   "metadata": {},
   "outputs": [],
   "source": [
    "import torch\n",
    "from functions import CustomDataset, Inference\n",
    "from autoencoders import ConvolutionalAutoencoder\n",
    "from torch.utils.data import DataLoader\n",
    "from train import train_cae\n",
    "from torchvision.utils import save_image"
   ]
  },
  {
   "cell_type": "code",
   "execution_count": 2,
   "metadata": {},
   "outputs": [],
   "source": [
    "##### CONFIG\n",
    "DEVICE = torch.device(\"cuda\" if torch.cuda.is_available() else \"cpu\")\n",
    "NUM_EPOCHS = 5\n",
    "BATCH_SIZE = 32\n",
    "LR_RATE = 1e-3"
   ]
  },
  {
   "cell_type": "code",
   "execution_count": 3,
   "metadata": {},
   "outputs": [],
   "source": [
    "##### Dataset Loading\n",
    "train_dataset = CustomDataset(data_pickle_file_path='../data/training_color.pkl', \n",
    "                              labels_pickle_file_path='../data/y_training.pkl')\n",
    "train_loader = DataLoader(dataset=train_dataset, batch_size=BATCH_SIZE, shuffle=True)\n",
    "\n",
    "validation_dataset = CustomDataset(data_pickle_file_path='../data/validation_color.pkl', \n",
    "                                   labels_pickle_file_path='../data/y_validation.pkl')\n",
    "validation_loader = DataLoader(dataset=validation_dataset, batch_size=BATCH_SIZE, shuffle=False)\n",
    "\n",
    "test_dataset = CustomDataset(data_pickle_file_path='../data/testing_color.pkl', \n",
    "                             labels_pickle_file_path='../data/y_testing.pkl')\n",
    "test_loader = DataLoader(dataset=test_dataset, batch_size=BATCH_SIZE, shuffle=False)"
   ]
  },
  {
   "cell_type": "code",
   "execution_count": 4,
   "metadata": {},
   "outputs": [
    {
     "name": "stderr",
     "output_type": "stream",
     "text": [
      "60it [00:05, 11.57it/s, loss=3.41e+3]\n",
      "60it [00:05, 12.00it/s, loss=2.44e+3]\n"
     ]
    }
   ],
   "source": [
    "model = ConvolutionalAutoencoder().to(DEVICE)\n",
    "train_cae(model, train_loader, NUM_EPOCHS, LR_RATE, DEVICE)"
   ]
  },
  {
   "cell_type": "code",
   "execution_count": 7,
   "metadata": {},
   "outputs": [],
   "source": [
    "# for x, _ in test_loader:\n",
    "#     x = x.to(DEVICE).view(x.shape[0], INPUT_DIM)\n",
    "#     reconstructed = model(x)\n",
    "#     # Save the reconstructed images (adjust the reshaping to match your data dimensions)\n",
    "#     save_image(reconstructed.view(-1, 3, 64, 128), \"reconstructed.png\")"
   ]
  }
 ],
 "metadata": {
  "kernelspec": {
   "display_name": "mvae",
   "language": "python",
   "name": "python3"
  },
  "language_info": {
   "codemirror_mode": {
    "name": "ipython",
    "version": 3
   },
   "file_extension": ".py",
   "mimetype": "text/x-python",
   "name": "python",
   "nbconvert_exporter": "python",
   "pygments_lexer": "ipython3",
   "version": "3.11.3"
  }
 },
 "nbformat": 4,
 "nbformat_minor": 2
}
